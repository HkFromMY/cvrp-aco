{
 "cells": [
  {
   "cell_type": "markdown",
   "id": "cc177df2-b67b-4a32-9018-60a3a0af375a",
   "metadata": {
    "jp-MarkdownHeadingCollapsed": true
   },
   "source": [
    "# Notes\n",
    "\n",
    "**Hard Constraint:**  \n",
    "- Each delivery locaiton must be visited exactly once\n",
    "- Total **demand** of each vehicle route must not exceed its maximum **capacity**\n",
    "\n",
    "**Self Cosntraint:**  \n",
    "- Minimize cost required to meet all demands\n",
    "\n",
    "**Assumption:**  \n",
    "- Vehicles start and end their routes at the same depot location\n",
    "- Each vehicle only travels one round trip (depart from depot and back to the depot)\n",
    "- There is no limit on the number of vehicles.\n",
    "- Travel times between any 2 locations are the same in both directions\n",
    "- Deliveries can be made at any time, no time windows for deliveries\n",
    "- Vehicle travel distance is calculated using Euclidian distance formula.\n",
    "\n",
    "**Sample Output:**  \n",
    "Vehicle 1 (Type A):  \n",
    "Round Trip Distance: 41.861 km, Cost: RM 50.23, Demand: 22  \n",
    "Depot -> C2 (9.072 km) -> C6 (1.834 km) -> C8 (19.343 km) -> Depot (11.612 km)  \n",
    "\n",
    "Vehicle 2 (Type B):\n",
    "..."
   ]
  },
  {
   "cell_type": "markdown",
   "id": "2cff7d1c-750e-4506-987f-295990280567",
   "metadata": {},
   "source": [
    "# Implementation"
   ]
  },
  {
   "cell_type": "code",
   "execution_count": 1,
   "id": "ff10b7f4-2216-42bc-8088-b360c410de95",
   "metadata": {},
   "outputs": [],
   "source": [
    "import numpy as np\n",
    "import pandas as pd"
   ]
  },
  {
   "cell_type": "code",
   "execution_count": 7,
   "id": "7c6ecffb-1d5b-46bb-af98-7067b66dce06",
   "metadata": {},
   "outputs": [],
   "source": [
    "# id with 0 = depot\n",
    "nodes = [\n",
    "    { 'id': 0, 'latitude': 4.4184, 'longitude': 114.0932, 'demand': 0 },\n",
    "    { 'id': 1, 'latitude': 4.3555, 'longitude': 113.9777, 'demand': 5 },\n",
    "    { 'id': 2, 'latitude': 4.3976, 'longitude': 114.0049, 'demand': 8 },\n",
    "    { 'id': 3, 'latitude': 4.3163, 'longitude': 114.0764, 'demand': 3 },\n",
    "    { 'id': 4, 'latitude': 4.3184, 'longitude': 113.9932, 'demand': 6 },\n",
    "    { 'id': 5, 'latitude': 4.4024, 'longitude': 113.9932, 'demand': 5 },\n",
    "    { 'id': 6, 'latitude': 4.4142, 'longitude': 113.9896, 'demand': 8 },\n",
    "    { 'id': 7, 'latitude': 4.4804, 'longitude': 114.0127, 'demand': 3 },\n",
    "    { 'id': 8, 'latitude': 4.3818, 'longitude': 114.0734, 'demand': 6 },\n",
    "    { 'id': 9, 'latitude': 4.4935, 'longitude': 114.2034, 'demand': 5 },\n",
    "    { 'id': 10, 'latitude': 4.4932, 'longitude': 114.1322, 'demand': 8 },\n",
    "]\n",
    "\n",
    "vehicles = [\n",
    "    { 'vehicle': 'A', 'capacity': 25, 'cost': 1.2 },\n",
    "    { 'vehicle': 'B', 'capacity': 30, 'cost': 1.5 }\n",
    "]"
   ]
  },
  {
   "cell_type": "code",
   "execution_count": null,
   "id": "f67ba018-6aaa-4988-9ac6-9ee79e8036ef",
   "metadata": {},
   "outputs": [],
   "source": [
    "import math\n",
    "\n",
    "def euclidian_distance(node1, node2):\n",
    "    return 100 * math.sqrt(math.pow(node2.longitude - node1.longitude, 2) + math.pow(node1.latitude - node2.latitude, 2))\n",
    "\n",
    "def calculate_cost(trip):\n",
    "    "
   ]
  },
  {
   "cell_type": "code",
   "execution_count": 8,
   "id": "d6401f75-838d-40a2-8c16-df4cc4c16881",
   "metadata": {},
   "outputs": [
    {
     "data": {
      "text/plain": [
       "21"
      ]
     },
     "execution_count": 8,
     "metadata": {},
     "output_type": "execute_result"
    }
   ],
   "source": [
    "np.sum(np.array([[1, 2, 3], [4, 5, 6]]))"
   ]
  },
  {
   "cell_type": "code",
   "execution_count": null,
   "id": "0e02a9e6-8374-4751-baaf-058524919773",
   "metadata": {},
   "outputs": [],
   "source": []
  },
  {
   "cell_type": "code",
   "execution_count": null,
   "id": "84a2c935-88bd-41a0-9a1d-c51dbf0ac001",
   "metadata": {},
   "outputs": [],
   "source": []
  },
  {
   "cell_type": "code",
   "execution_count": null,
   "id": "e56ac151-537f-435e-9438-57067bc5559c",
   "metadata": {},
   "outputs": [],
   "source": []
  },
  {
   "cell_type": "code",
   "execution_count": null,
   "id": "23755b39-fc96-49bd-9083-e8f2412e2c3f",
   "metadata": {},
   "outputs": [],
   "source": []
  },
  {
   "cell_type": "code",
   "execution_count": null,
   "id": "94180d66-ef93-426c-8f39-896d7f968055",
   "metadata": {},
   "outputs": [],
   "source": []
  },
  {
   "cell_type": "code",
   "execution_count": null,
   "id": "9fc4527e-5388-4c84-8eb0-dcbdb4eaaa91",
   "metadata": {},
   "outputs": [],
   "source": []
  },
  {
   "cell_type": "code",
   "execution_count": null,
   "id": "4b068919-e303-4552-aada-9af35e5b210e",
   "metadata": {},
   "outputs": [],
   "source": []
  },
  {
   "cell_type": "code",
   "execution_count": null,
   "id": "e2790500-63fc-44bf-a4b7-1b23060211a3",
   "metadata": {},
   "outputs": [],
   "source": []
  },
  {
   "cell_type": "code",
   "execution_count": null,
   "id": "fe366ec6-7229-47f1-923f-5100d584fa33",
   "metadata": {},
   "outputs": [],
   "source": []
  },
  {
   "cell_type": "code",
   "execution_count": null,
   "id": "7298ff58-70d0-49e3-b0ce-04598ce96b73",
   "metadata": {},
   "outputs": [],
   "source": []
  },
  {
   "cell_type": "markdown",
   "id": "3ee5fff7-bdb9-4588-b782-7b738b4291b1",
   "metadata": {},
   "source": [
    "# References\n",
    "1. https://www.researchgate.net/publication/228557657_Metaheuristics_for_Vehicle_Routing_Problems_with_Loading_Constraints_for_Wood_Products\n",
    "2. https://github.com/afurculita/VehicleRoutingProblem/blob/master/src/ro/uaic/info/acs/VrpAcsSolver.java\n",
    "3. https://github.com/pkonowrocki/CVRP_ACO"
   ]
  },
  {
   "cell_type": "code",
   "execution_count": null,
   "id": "8bb66333-8f23-444c-93e0-340649297889",
   "metadata": {},
   "outputs": [],
   "source": []
  }
 ],
 "metadata": {
  "kernelspec": {
   "display_name": "Python 3 (ipykernel)",
   "language": "python",
   "name": "python3"
  },
  "language_info": {
   "codemirror_mode": {
    "name": "ipython",
    "version": 3
   },
   "file_extension": ".py",
   "mimetype": "text/x-python",
   "name": "python",
   "nbconvert_exporter": "python",
   "pygments_lexer": "ipython3",
   "version": "3.10.9"
  }
 },
 "nbformat": 4,
 "nbformat_minor": 5
}
