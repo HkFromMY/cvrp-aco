{
 "cells": [
  {
   "cell_type": "markdown",
   "id": "cc177df2-b67b-4a32-9018-60a3a0af375a",
   "metadata": {
    "jp-MarkdownHeadingCollapsed": true
   },
   "source": [
    "# Notes\n",
    "\n",
    "**Hard Constraint:**  \n",
    "- Each delivery locaiton must be visited exactly once\n",
    "- Total **demand** of each vehicle route must not exceed its maximum **capacity**\n",
    "\n",
    "**Self Cosntraint:**  \n",
    "- Minimize cost required to meet all demands\n",
    "\n",
    "**Assumption:**  \n",
    "- Vehicles start and end their routes at the same depot location\n",
    "- Each vehicle only travels one round trip (depart from depot and back to the depot)\n",
    "- There is no limit on the number of vehicles.\n",
    "- Travel times between any 2 locations are the same in both directions\n",
    "- Deliveries can be made at any time, no time windows for deliveries\n",
    "- Vehicle travel distance is calculated using Euclidian distance formula.\n",
    "\n",
    "**Sample Output:**  \n",
    "Vehicle 1 (Type A):  \n",
    "Round Trip Distance: 41.861 km, Cost: RM 50.23, Demand: 22  \n",
    "Depot -> C2 (9.072 km) -> C6 (1.834 km) -> C8 (19.343 km) -> Depot (11.612 km)  \n",
    "\n",
    "Vehicle 2 (Type B):\n",
    "..."
   ]
  },
  {
   "cell_type": "markdown",
   "id": "2cff7d1c-750e-4506-987f-295990280567",
   "metadata": {},
   "source": [
    "# Implementation"
   ]
  },
  {
   "cell_type": "code",
   "execution_count": 1,
   "id": "7c6ecffb-1d5b-46bb-af98-7067b66dce06",
   "metadata": {},
   "outputs": [],
   "source": [
    "# id with 0 = depot\n",
    "nodes = [\n",
    "    { 'id': 0, 'latitude': 4.4184, 'longitude': 114.0932, 'demand': 0 },\n",
    "    { 'id': 1, 'latitude': 4.3555, 'longitude': 113.9777, 'demand': 5 },\n",
    "    { 'id': 2, 'latitude': 4.3976, 'longitude': 114.0049, 'demand': 8 },\n",
    "    { 'id': 3, 'latitude': 4.3163, 'longitude': 114.0764, 'demand': 3 },\n",
    "    { 'id': 4, 'latitude': 4.3184, 'longitude': 113.9932, 'demand': 6 },\n",
    "    { 'id': 5, 'latitude': 4.4024, 'longitude': 113.9932, 'demand': 5 },\n",
    "    { 'id': 6, 'latitude': 4.4142, 'longitude': 113.9896, 'demand': 8 },\n",
    "    { 'id': 7, 'latitude': 4.4804, 'longitude': 114.0127, 'demand': 3 },\n",
    "    { 'id': 8, 'latitude': 4.3818, 'longitude': 114.0734, 'demand': 6 },\n",
    "    { 'id': 9, 'latitude': 4.4935, 'longitude': 114.2034, 'demand': 5 },\n",
    "    { 'id': 10, 'latitude': 4.4932, 'longitude': 114.1322, 'demand': 8 },\n",
    "]\n",
    "\n",
    "vehicles = [\n",
    "    { 'vehicle': 'A', 'capacity': 25, 'cost': 1.2 },\n",
    "    { 'vehicle': 'B', 'capacity': 30, 'cost': 1.5 }\n",
    "]"
   ]
  },
  {
   "cell_type": "code",
   "execution_count": 55,
   "id": "0cb6be61",
   "metadata": {},
   "outputs": [],
   "source": [
    "import math\n",
    "import networkx as nx\n",
    "import matplotlib.pyplot as plt\n",
    "\n",
    "class Node:\n",
    "  def __init__(self, id, latitude, longitude, demand):\n",
    "    self.id = id\n",
    "    self.latitude = latitude\n",
    "    self.longitude = longitude\n",
    "    self.demand = demand\n",
    "    \n",
    "  def calculate_distance(self, node):\n",
    "    return 100 * math.sqrt(\n",
    "      math.pow(node.longitude - self.longitude, 2) +\n",
    "      math.pow(node.latitude - self.latitude, 2)\n",
    "    )\n",
    "  \n",
    "class Vehicle:\n",
    "  def __init__(self, vehicle, capacity, cost):\n",
    "    self.vehicle = vehicle\n",
    "    self.capacity = capacity\n",
    "    self.cost = cost\n",
    "\n",
    "class Path:\n",
    "  def __init__(self): \n",
    "    self.nodes = []\n",
    "  \n",
    "  def add_node(self, node):\n",
    "    self.nodes.append(node)\n",
    "\n",
    "  def calculate_total_distance(self):\n",
    "    total_distance = 0\n",
    "    for i in range(len(self.nodes) - 1):\n",
    "      total_distance += self.nodes[i].calculate_distance(self.nodes[i+1])\n",
    "\n",
    "    return total_distance\n",
    "  \n",
    "  def print_path(self):\n",
    "    for index, node in enumerate(self.nodes):\n",
    "      if index != len(self.nodes) - 1:\n",
    "        print(node.id, end=' -> ')\n",
    "      else:\n",
    "        print(node.id)\n",
    "    print()\n",
    "\n",
    "  def print_output(self):\n",
    "    pass\n",
    "\n",
    "  def plot_path(self, figsize=(14, 8)):\n",
    "    \"\"\"\n",
    "      Visualize the path\n",
    "      Placement of label is not consistent \n",
    "    \"\"\"\n",
    "    G = nx.DiGraph()\n",
    "    edges = []\n",
    "    for index in range(len(self.nodes) - 1):\n",
    "      edges.append(\n",
    "        (\n",
    "          self.nodes[index].id, \n",
    "          self.nodes[index+1].id, \n",
    "          {'weight': round(self.nodes[index].calculate_distance(self.nodes[index+1]), 4)} # weight between 2 nodes\n",
    "        )\n",
    "      )\n",
    "\n",
    "    G.add_edges_from(edges)\n",
    "    plt.figure(figsize=figsize)\n",
    "    pos = nx.circular_layout(G)\n",
    "    nx.draw(G, with_labels=True)\n",
    "    edge_weight = nx.get_edge_attributes(G,'weight')\n",
    "    nx.draw_networkx_edge_labels(G, pos, edge_labels = edge_weight)\n",
    "    plt.show()"
   ]
  },
  {
   "cell_type": "code",
   "execution_count": 83,
   "id": "5a4e5b13",
   "metadata": {},
   "outputs": [],
   "source": [
    "import numpy as np\n",
    "\n",
    "def calculate_saving_heuristics(\n",
    "    depot_node, \n",
    "    source_node,\n",
    "    dst_node\n",
    "):\n",
    "  G = 2\n",
    "  F = 0.3\n",
    "\n",
    "  intermediate_result = source_node.calculate_distance(depot_node) + depot_node.calculate_distance(dst_node)\n",
    "  saving_heuristic = intermediate_result - (G * source_node.calculate_distance(dst_node)) + (F * abs(intermediate_result))\n",
    "\n",
    "  return saving_heuristic\n",
    "\n",
    "def calculate_load_influence(\n",
    "    current_capacity,\n",
    "    maximum_capacity,\n",
    "    demand\n",
    "):\n",
    "  return (current_capacity + demand) / maximum_capacity\n",
    "\n",
    "def calculate_probs(\n",
    "    pheromone,\n",
    "    depot_node,\n",
    "    source_node,\n",
    "    dst_node,\n",
    "    current_capacity,\n",
    "    maximum_capacity,\n",
    "):\n",
    "  # calculate probs for 1 data point\n",
    "  ALPHA = 1\n",
    "  BETA = 1\n",
    "  GAMMA = 1\n",
    "  DELTA = 1\n",
    "\n",
    "  inverse_distance = (1 / source_node.calculate_distance(dst_node)) * BETA\n",
    "  pheromone_influence = pheromone * ALPHA\n",
    "  saving_heuristic = calculate_saving_heuristics(depot_node, source_node, dst_node) * GAMMA\n",
    "  load_influence = calculate_load_influence(current_capacity, maximum_capacity, dst_node.demand) * DELTA\n",
    "\n",
    "  return inverse_distance * pheromone_influence * saving_heuristic * load_influence\n",
    "\n",
    "def calculate_next_node(\n",
    "    vertices,\n",
    "    pheromone_matrix,\n",
    "    visited_nodes,\n",
    "    current_node,\n",
    "    current_capacity,\n",
    "    maximum_capacity,\n",
    "):\n",
    "  # compute probs and decide next node\n",
    "  probabilities_nodes = []\n",
    "  \n",
    "  for index, node in enumerate(vertices):\n",
    "    if index == 0 or visited_nodes[index]:\n",
    "      probabilities_nodes.append(0.0) # skip depot and visited nodes\n",
    "\n",
    "    else:\n",
    "      # calculate probability\n",
    "      prob = calculate_probs(\n",
    "        pheromone_matrix[current_node][index],\n",
    "        vertices[0],\n",
    "        vertices[current_node],\n",
    "        node,\n",
    "        current_capacity,\n",
    "        maximum_capacity\n",
    "      )\n",
    "      \n",
    "      probabilities_nodes.append(prob)\n",
    "\n",
    "  # select next node\n",
    "  probabilities_nodes = np.array(probabilities_nodes)\n",
    "  probabilities_nodes = probabilities_nodes / probabilities_nodes.sum()\n",
    "  next_node = np.argmax(probabilities_nodes) \n",
    "  \n",
    "  return next_node # index of next node\n",
    "\n",
    "def aco(\n",
    "    dataset, # nodes\n",
    "    vehicle_used, # vehicle object\n",
    "    n_iter, # number of iterations for the generation of solution\n",
    "    n_ants, # number of ants within each iteration \n",
    "    evaporation_rate, # strength of evaporation on the pheromone\n",
    "    pheromone_coefficient, \n",
    "):\n",
    "  vertices = [Node(**node) for node in dataset]\n",
    "  pheromone_matrix = np.ones((len(vertices), len(vertices)))\n",
    "  best_solution_so_far = None\n",
    "\n",
    "  current_iter = 0\n",
    "  while current_iter < n_iter:\n",
    "    solutions_found = []\n",
    "\n",
    "    for _ in range(n_ants):\n",
    "      visited_nodes = [False] * len(vertices)\n",
    "      visited_nodes[0] = True # depot is source node\n",
    "      current_node = 0\n",
    "      current_capacity = 0\n",
    "      x = np.zeros((len(vertices), len(vertices))) # matrix to determine whether the edge exists between 2 nodes\n",
    "\n",
    "      # initiate path\n",
    "      path = Path()\n",
    "      path.add_node(vertices[0]) # add depot\n",
    "\n",
    "      while not all(visited_nodes):\n",
    "        # if havent visit all nodes yet, then continue this iteration\n",
    "\n",
    "        # decide next node\n",
    "        next_node = calculate_next_node(\n",
    "          vertices,\n",
    "          pheromone_matrix,\n",
    "          visited_nodes,\n",
    "          current_node,\n",
    "          current_capacity,\n",
    "          vehicle_used.capacity # maximum capacity\n",
    "        )\n",
    "\n",
    "        if current_capacity + vertices[next_node].demand > vehicle_used.capacity:\n",
    "          # return to depot if cannot proceed to next node due to capacity\n",
    "          next_node = 0\n",
    "          current_capacity = 0 # free all load at the depot\n",
    "\n",
    "        else:\n",
    "          # visit the next node\n",
    "          visited_nodes[next_node] = True\n",
    "          x[current_node][next_node] = 1 # update that there's edge between 2 nodes\n",
    "          current_capacity += vertices[next_node].demand\n",
    "\n",
    "        current_node = next_node # update current position\n",
    "        path.add_node(vertices[next_node])\n",
    "\n",
    "      current_node = 0 # return to depot\n",
    "      path.add_node(vertices[current_node]) # add last node in the path\n",
    "      solutions_found.append(path)\n",
    "    \n",
    "    # evaporate pheromone trails \n",
    "    pheromone_matrix = pheromone_matrix * evaporation_rate\n",
    "\n",
    "    # calculate the distance for each solution found\n",
    "    distances = [solution.calculate_total_distance() for solution in solutions_found]\n",
    "    minimum_path_index = np.argmin(distances)\n",
    "\n",
    "    # update pheromone trails\n",
    "    if best_solution_so_far is None:\n",
    "      # if there's no best sol yet (prob first iter), use the min in current\n",
    "      best_solution_distance = distances[minimum_path_index]\n",
    "\n",
    "    else:\n",
    "      # if there's best sol alr\n",
    "      best_solution_distance = best_solution_so_far.calculate_total_distance()\n",
    "\n",
    "    # update the pheromone trails \n",
    "    pheromone_matrix = (pheromone_matrix + x) * (pheromone_coefficient * (best_solution_distance / distances[minimum_path_index]))\n",
    "\n",
    "    # save the best solution on global \n",
    "    if best_solution_so_far is None:\n",
    "      best_solution_so_far = solutions_found[minimum_path_index]\n",
    "\n",
    "    elif best_solution_so_far.calculate_total_distance() > distances[minimum_path_index]:\n",
    "      # if have lower distance path then mark that as the best solution\n",
    "      best_solution_so_far = solutions_found[minimum_path_index]\n",
    "\n",
    "    current_iter += 1\n",
    "    \n",
    "  return best_solution_so_far\n"
   ]
  },
  {
   "cell_type": "code",
   "execution_count": 84,
   "id": "a54eb451",
   "metadata": {},
   "outputs": [],
   "source": [
    "# vehicle A \n",
    "vehicle_used = Vehicle(**vehicles[0])\n",
    "best_path_A = aco(\n",
    "    nodes,\n",
    "    vehicle_used, # vehicle A\n",
    "    5,\n",
    "    5,\n",
    "    0.2, # evaporation rate\n",
    "    0.2, # pheromone coefficient\n",
    ")"
   ]
  },
  {
   "cell_type": "code",
   "execution_count": 85,
   "id": "54383de1",
   "metadata": {},
   "outputs": [
    {
     "name": "stdout",
     "output_type": "stream",
     "text": [
      "0 -> 2 -> 5 -> 6 -> 0 -> 10 -> 8 -> 3 -> 4 -> 0 -> 1 -> 9 -> 7 -> 0\n",
      "\n"
     ]
    }
   ],
   "source": [
    "best_path_A.print_path()"
   ]
  },
  {
   "cell_type": "code",
   "execution_count": 86,
   "id": "1008f3df",
   "metadata": {},
   "outputs": [
    {
     "data": {
      "text/plain": [
       "140.87444698860025"
      ]
     },
     "execution_count": 86,
     "metadata": {},
     "output_type": "execute_result"
    }
   ],
   "source": [
    "best_path_A.calculate_total_distance()"
   ]
  },
  {
   "cell_type": "code",
   "execution_count": 87,
   "id": "afa52d43",
   "metadata": {},
   "outputs": [],
   "source": [
    "# vehicle B\n",
    "vehicle_used = Vehicle(**vehicles[1])\n",
    "best_path_B = aco(\n",
    "    nodes,\n",
    "    vehicle_used,\n",
    "    5,\n",
    "    5,\n",
    "    0.2, # evaporation rate\n",
    "    0.2, # pheromone coefficient\n",
    ")"
   ]
  },
  {
   "cell_type": "code",
   "execution_count": 88,
   "id": "0edf1103",
   "metadata": {},
   "outputs": [
    {
     "name": "stdout",
     "output_type": "stream",
     "text": [
      "0 -> 10 -> 8 -> 3 -> 4 -> 1 -> 0 -> 2 -> 5 -> 6 -> 7 -> 9 -> 0\n",
      "\n"
     ]
    }
   ],
   "source": [
    "best_path_B.print_path()"
   ]
  },
  {
   "cell_type": "code",
   "execution_count": 89,
   "id": "496baa2b",
   "metadata": {},
   "outputs": [
    {
     "data": {
      "text/plain": [
       "104.11629904668148"
      ]
     },
     "execution_count": 89,
     "metadata": {},
     "output_type": "execute_result"
    }
   ],
   "source": [
    "best_path_B.calculate_total_distance()"
   ]
  },
  {
   "cell_type": "code",
   "execution_count": null,
   "id": "76a7ce65",
   "metadata": {},
   "outputs": [],
   "source": []
  },
  {
   "cell_type": "code",
   "execution_count": null,
   "id": "b5a182c8",
   "metadata": {},
   "outputs": [],
   "source": []
  },
  {
   "cell_type": "code",
   "execution_count": null,
   "id": "2ff42bed",
   "metadata": {},
   "outputs": [],
   "source": []
  },
  {
   "cell_type": "code",
   "execution_count": null,
   "id": "0e3f6fff",
   "metadata": {},
   "outputs": [],
   "source": []
  },
  {
   "cell_type": "markdown",
   "id": "c570715b",
   "metadata": {},
   "source": [
    "# Visualization"
   ]
  },
  {
   "cell_type": "code",
   "execution_count": 63,
   "id": "681fd372",
   "metadata": {},
   "outputs": [
    {
     "name": "stdout",
     "output_type": "stream",
     "text": [
      "0 -> 2 -> 5 -> 6 -> 0 -> 10 -> 8 -> 3 -> 4 -> 0 -> 1 -> 9 -> 7 -> 0\n",
      "\n"
     ]
    }
   ],
   "source": [
    "best_path_A.print_path()"
   ]
  },
  {
   "cell_type": "code",
   "execution_count": 64,
   "id": "2d26ce65",
   "metadata": {},
   "outputs": [
    {
     "data": {
      "image/png": "[encoded data removed]",
      "text/plain": [
       "<Figure size 1400x1000 with 1 Axes>"
      ]
     },
     "metadata": {},
     "output_type": "display_data"
    }
   ],
   "source": [
    "best_path_A.plot_path(figsize=(14, 10))"
   ]
  },
  {
   "cell_type": "code",
   "execution_count": null,
   "id": "4be1435a",
   "metadata": {},
   "outputs": [],
   "source": []
  },
  {
   "cell_type": "code",
   "execution_count": null,
   "id": "94180d66-ef93-426c-8f39-896d7f968055",
   "metadata": {},
   "outputs": [],
   "source": []
  },
  {
   "cell_type": "code",
   "execution_count": null,
   "id": "9fc4527e-5388-4c84-8eb0-dcbdb4eaaa91",
   "metadata": {},
   "outputs": [],
   "source": []
  },
  {
   "cell_type": "code",
   "execution_count": null,
   "id": "4b068919-e303-4552-aada-9af35e5b210e",
   "metadata": {},
   "outputs": [],
   "source": []
  },
  {
   "cell_type": "code",
   "execution_count": null,
   "id": "e2790500-63fc-44bf-a4b7-1b23060211a3",
   "metadata": {},
   "outputs": [],
   "source": []
  },
  {
   "cell_type": "code",
   "execution_count": null,
   "id": "fe366ec6-7229-47f1-923f-5100d584fa33",
   "metadata": {},
   "outputs": [],
   "source": []
  },
  {
   "cell_type": "code",
   "execution_count": null,
   "id": "7298ff58-70d0-49e3-b0ce-04598ce96b73",
   "metadata": {},
   "outputs": [],
   "source": []
  },
  {
   "cell_type": "markdown",
   "id": "3ee5fff7-bdb9-4588-b782-7b738b4291b1",
   "metadata": {},
   "source": [
    "# References\n",
    "1. https://www.researchgate.net/publication/228557657_Metaheuristics_for_Vehicle_Routing_Problems_with_Loading_Constraints_for_Wood_Products\n",
    "2. https://github.com/afurculita/VehicleRoutingProblem/blob/master/src/ro/uaic/info/acs/VrpAcsSolver.java\n",
    "3. https://github.com/pkonowrocki/CVRP_ACO"
   ]
  },
  {
   "cell_type": "code",
   "execution_count": null,
   "id": "8bb66333-8f23-444c-93e0-340649297889",
   "metadata": {},
   "outputs": [],
   "source": []
  }
 ],
 "metadata": {
  "kernelspec": {
   "display_name": "Python 3 (ipykernel)",
   "language": "python",
   "name": "python3"
  },
  "language_info": {
   "codemirror_mode": {
    "name": "ipython",
    "version": 3
   },
   "file_extension": ".py",
   "mimetype": "text/x-python",
   "name": "python",
   "nbconvert_exporter": "python",
   "pygments_lexer": "ipython3",
   "version": "3.10.9"
  }
 },
 "nbformat": 4,
 "nbformat_minor": 5
}
